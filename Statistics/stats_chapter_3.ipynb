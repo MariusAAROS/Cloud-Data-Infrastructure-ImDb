{
 "cells": [
  {
   "cell_type": "code",
   "execution_count": 2,
   "metadata": {},
   "outputs": [],
   "source": [
    "import pandas as pd"
   ]
  },
  {
   "cell_type": "markdown",
   "metadata": {},
   "source": [
    "### Nombre de film contenant \"love\" dans un de ses titres"
   ]
  },
  {
   "cell_type": "code",
   "execution_count": 3,
   "metadata": {},
   "outputs": [],
   "source": [
    "films = pd.read_csv('../Data/title-basic.tsv', sep='\\t', low_memory=False)\n",
    "akas= pd.read_csv('../Data/title-akas.tsv', sep='\\t', low_memory=False)"
   ]
  },
  {
   "cell_type": "code",
   "execution_count": 4,
   "metadata": {},
   "outputs": [],
   "source": [
    "films = films.join(akas.set_index('titleId'), on='tconst')"
   ]
  },
  {
   "cell_type": "code",
   "execution_count": 6,
   "metadata": {},
   "outputs": [
    {
     "name": "stdout",
     "output_type": "stream",
     "text": [
      "10293\n"
     ]
    }
   ],
   "source": [
    "print(films[(films['primaryTitle'].str.contains('love', na=False)) | \n",
    "            (films['originalTitle'].str.contains('love', na=False)) | \n",
    "            (films['title'].str.contains('love', na=False))].shape[0])"
   ]
  }
 ],
 "metadata": {
  "kernelspec": {
   "display_name": "cloud_venv",
   "language": "python",
   "name": "python3"
  },
  "language_info": {
   "codemirror_mode": {
    "name": "ipython",
    "version": 3
   },
   "file_extension": ".py",
   "mimetype": "text/x-python",
   "name": "python",
   "nbconvert_exporter": "python",
   "pygments_lexer": "ipython3",
   "version": "3.11.3"
  }
 },
 "nbformat": 4,
 "nbformat_minor": 2
}
